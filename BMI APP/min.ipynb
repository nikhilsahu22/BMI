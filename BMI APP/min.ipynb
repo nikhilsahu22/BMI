{
 "cells": [
  {
   "cell_type": "markdown",
   "id": "c80489a4",
   "metadata": {},
   "source": [
    "#### 2. Do the following using PANDAS Series:\n",
    "\n"
   ]
  },
  {
   "cell_type": "markdown",
   "id": "6dc6909c",
   "metadata": {},
   "source": [
    "#### a. Create a series with 5 elements. Display the series sorted on index and also sorted on values seperately"
   ]
  },
  {
   "cell_type": "code",
   "execution_count": 6,
   "id": "15e9c794",
   "metadata": {},
   "outputs": [
    {
     "name": "stdout",
     "output_type": "stream",
     "text": [
      "d    4\n",
      "b    7\n",
      "a   -5\n",
      "c    3\n",
      "e    9\n",
      "dtype: int64\n",
      "\n",
      "Sorted by Index:\n",
      "a   -5\n",
      "b    7\n",
      "c    3\n",
      "d    4\n",
      "e    9\n",
      "dtype: int64\n",
      "\n",
      "Sorted by Values:\n",
      "a   -5\n",
      "c    3\n",
      "d    4\n",
      "b    7\n",
      "e    9\n",
      "dtype: int64\n"
     ]
    }
   ],
   "source": [
    "import pandas as pd\n",
    "obj2 = pd.Series([4,7,-5,3, 9], index=['d','b','a','c','e'])\n",
    "print(obj2)\n",
    "\n",
    "sorted_by_index = obj2.sort_index()\n",
    "print(\"\\nSorted by Index:\")\n",
    "print(sorted_by_index)\n",
    "\n",
    "# Sort the series based on values\n",
    "sorted_by_values = obj2.sort_values()\n",
    "print(\"\\nSorted by Values:\")\n",
    "print(sorted_by_values)"
   ]
  },
  {
   "cell_type": "markdown",
   "id": "df0890c9",
   "metadata": {},
   "source": [
    "#### b. Create a series with N elements with some duplicate values. Find the minimum and maximum ranks assigned to the values using ‘first’ and ‘max’ methods\n",
    "\n",
    "--->Ranking assigns ranks 1 through the number of valid data points in an array."
   ]
  },
  {
   "cell_type": "code",
   "execution_count": 10,
   "id": "cb476b18",
   "metadata": {},
   "outputs": [
    {
     "name": "stdout",
     "output_type": "stream",
     "text": [
      "Original Series:\n",
      "c    10\n",
      "b     5\n",
      "e    20\n",
      "d    15\n",
      "a    10\n",
      "dtype: int64\n",
      "\n",
      "Minimum Ranks (first method):\n",
      "c    2.0\n",
      "b    1.0\n",
      "e    5.0\n",
      "d    4.0\n",
      "a    3.0\n",
      "dtype: float64\n",
      "\n",
      "Maximum Ranks (max method):\n",
      "c    3.0\n",
      "b    1.0\n",
      "e    5.0\n",
      "d    4.0\n",
      "a    3.0\n",
      "dtype: float64\n"
     ]
    }
   ],
   "source": [
    "\n",
    "# Create a series with N elements and some duplicate values\n",
    "data = {'c': 10, 'b': 5, 'e': 20, 'd': 15, 'a': 10}\n",
    "series_data = pd.Series(data)\n",
    "\n",
    "# Display the original series\n",
    "print(\"Original Series:\")\n",
    "print(series_data)\n",
    "\n",
    "# Find the min ranks using 'first' method---->rank will assigned in order they appear in the array\n",
    "# This breaks ties giving upper rank to the value observed first.\n",
    "\n",
    "min_ranks_first = series_data.rank(method='first')\n",
    "print(\"\\nMinimum Ranks (first method):\")\n",
    "print(min_ranks_first)\n",
    "\n",
    "# Find the max ranks using 'max' method------>highest rank in the group\n",
    "max_ranks_max = series_data.rank(method='max') \n",
    "print(\"\\nMaximum Ranks (max method):\")\n",
    "print(max_ranks_max)\n"
   ]
  },
  {
   "cell_type": "markdown",
   "id": "8e848297",
   "metadata": {},
   "source": [
    "#### c. Display the index value of the minimum and maximum element of a Series"
   ]
  },
  {
   "cell_type": "code",
   "execution_count": 11,
   "id": "05dd0552",
   "metadata": {},
   "outputs": [
    {
     "data": {
      "text/plain": [
       "d    4\n",
       "b    7\n",
       "a   -5\n",
       "c    3\n",
       "e    9\n",
       "dtype: int64"
      ]
     },
     "execution_count": 11,
     "metadata": {},
     "output_type": "execute_result"
    }
   ],
   "source": [
    "obj2"
   ]
  },
  {
   "cell_type": "code",
   "execution_count": 14,
   "id": "2737eb49",
   "metadata": {},
   "outputs": [
    {
     "name": "stdout",
     "output_type": "stream",
     "text": [
      "\n",
      "Index Min Element: a\n",
      "Index Max Element: e\n"
     ]
    }
   ],
   "source": [
    "# Find the index of the minimum element\n",
    "min_index = obj2.idxmin()\n",
    "print(\"\\nIndex Min Element:\", min_index)\n",
    "\n",
    "\n",
    "# Find the index of the maximum element\n",
    "max_index = obj2.idxmax()\n",
    "print(\"Index Max Element:\", max_index)\n"
   ]
  }
 ],
 "metadata": {
  "kernelspec": {
   "display_name": "Python 3 (ipykernel)",
   "language": "python",
   "name": "python3"
  },
  "language_info": {
   "codemirror_mode": {
    "name": "ipython",
    "version": 3
   },
   "file_extension": ".py",
   "mimetype": "text/x-python",
   "name": "python",
   "nbconvert_exporter": "python",
   "pygments_lexer": "ipython3",
   "version": "3.11.5"
  }
 },
 "nbformat": 4,
 "nbformat_minor": 5
}
