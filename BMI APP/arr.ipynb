{
 "cells": [
  {
   "cell_type": "markdown",
   "id": "158e139e",
   "metadata": {},
   "source": [
    "# 1 1. Write programs in Python using NumPy library to do the following:\n",
    "a. Create a two dimensional array, ARR1 having random values from 0 to 1. Compute the mean, standard\n",
    "deviation, and variance of ARR1 along the second axis."
   ]
  },
  {
   "cell_type": "markdown",
   "id": "5f1cb215",
   "metadata": {},
   "source": [
    "### (a) Creating 2D array having random value b/w 0 and 1"
   ]
  },
  {
   "cell_type": "code",
   "execution_count": 6,
   "id": "7703cff4",
   "metadata": {},
   "outputs": [
    {
     "data": {
      "text/plain": [
       "array([[0.11621835, 0.50905352, 0.14073355, 0.2343117 ],\n",
       "       [0.61855582, 0.58831967, 0.84579414, 0.15839076],\n",
       "       [0.28565362, 0.74708142, 0.41764573, 0.58080104]])"
      ]
     },
     "execution_count": 6,
     "metadata": {},
     "output_type": "execute_result"
    }
   ],
   "source": [
    "import numpy as np\n",
    "ARR1 = np.random.rand(3, 4)\n",
    "ARR1"
   ]
  },
  {
   "cell_type": "code",
   "execution_count": 7,
   "id": "1763c26c",
   "metadata": {},
   "outputs": [
    {
     "data": {
      "text/plain": [
       "array([0.25007928, 0.5527651 , 0.50779545])"
      ]
     },
     "execution_count": 7,
     "metadata": {},
     "output_type": "execute_result"
    }
   ],
   "source": [
    "mean = np.mean(ARR1, axis=1)\n",
    "mean"
   ]
  },
  {
   "cell_type": "code",
   "execution_count": 8,
   "id": "4473e0b6",
   "metadata": {},
   "outputs": [
    {
     "data": {
      "text/plain": [
       "array([0.15587777, 0.24849028, 0.1732495 ])"
      ]
     },
     "execution_count": 8,
     "metadata": {},
     "output_type": "execute_result"
    }
   ],
   "source": [
    "std_deviation = np.std(ARR1, axis=1)\n",
    "std_deviation"
   ]
  },
  {
   "cell_type": "code",
   "execution_count": 54,
   "id": "50e8e921",
   "metadata": {},
   "outputs": [
    {
     "data": {
      "text/plain": [
       "array([0.02429788, 0.06174742, 0.03001539])"
      ]
     },
     "execution_count": 54,
     "metadata": {},
     "output_type": "execute_result"
    }
   ],
   "source": [
    "variance= np.var(ARR1, axis=1)\n",
    "variance"
   ]
  },
  {
   "cell_type": "markdown",
   "id": "c154f136",
   "metadata": {},
   "source": [
    "## (b)"
   ]
  },
  {
   "cell_type": "code",
   "execution_count": null,
   "id": "045eaae4",
   "metadata": {},
   "outputs": [],
   "source": [
    "b. Create a 2-dimensional array of size m x n integer elements, also print the shape, type and data type of\n",
    "the array and then reshape it into an n x m array, where n and m are user inputs given at the run time.\n"
   ]
  },
  {
   "cell_type": "code",
   "execution_count": null,
   "id": "e9c3dbca",
   "metadata": {},
   "outputs": [],
   "source": [
    "m = int(input(\"Enter value of m \"))\n",
    "n = int(input(\"Enter value of n \"))\n",
    "array = np.random.randint(0,100, size=(m,n))\n",
    "array"
   ]
  },
  {
   "cell_type": "code",
   "execution_count": null,
   "id": "c9a4d105",
   "metadata": {},
   "outputs": [],
   "source": [
    "array.shape"
   ]
  },
  {
   "cell_type": "code",
   "execution_count": null,
   "id": "57ec068e",
   "metadata": {},
   "outputs": [],
   "source": [
    "type(array)"
   ]
  },
  {
   "cell_type": "code",
   "execution_count": null,
   "id": "f71f39e3",
   "metadata": {},
   "outputs": [],
   "source": [
    "array.dtype"
   ]
  },
  {
   "cell_type": "code",
   "execution_count": null,
   "id": "bd857d70",
   "metadata": {},
   "outputs": [],
   "source": [
    "array2 = np.reshape(array, (n, m))\n",
    "array2"
   ]
  },
  {
   "cell_type": "markdown",
   "id": "089e8357",
   "metadata": {},
   "source": [
    "####  c. Test whether the elements of a given 1D array are zero, non-zero and NaN. Record the indices of these elements in three separate arrays."
   ]
  },
  {
   "cell_type": "code",
   "execution_count": null,
   "id": "4cb26c04",
   "metadata": {},
   "outputs": [],
   "source": [
    "arr = np.array([0, 1, 2, 0, 3, np.nan, 5, 0, np.nan])\n",
    "arr"
   ]
  },
  {
   "cell_type": "code",
   "execution_count": null,
   "id": "b0b4fb9e",
   "metadata": {},
   "outputs": [],
   "source": [
    "zeroIndices = np.where(arr == 0)[0]\n",
    "zeroIndices"
   ]
  },
  {
   "cell_type": "code",
   "execution_count": null,
   "id": "98a413dc",
   "metadata": {},
   "outputs": [],
   "source": [
    "nonZeroIndices = np.where(arr != 0)[0]\n",
    "nonZeroIndices"
   ]
  },
  {
   "cell_type": "code",
   "execution_count": null,
   "id": "697cebfc",
   "metadata": {},
   "outputs": [],
   "source": [
    "nanIndices = np.where(np.isnan(arr))[0]\n",
    "nanIndices"
   ]
  },
  {
   "cell_type": "markdown",
   "id": "0f1bd6b4",
   "metadata": {},
   "source": [
    "#### d. Create three random arrays of the same size: Array1, Array2 and Array3. Subtract Array 2 from Array3 and store in Array4. Create another array Array5 having two times the values in Array1. Find Covariance and Correlation of Array1 with Array4 and Array5 respectively.\n"
   ]
  },
  {
   "cell_type": "code",
   "execution_count": 12,
   "id": "aca1cace",
   "metadata": {},
   "outputs": [
    {
     "name": "stdout",
     "output_type": "stream",
     "text": [
      "Enter value of m 3\n",
      "Enter value of n 3\n"
     ]
    }
   ],
   "source": [
    "m = int(input(\"Enter value of m \"))\n",
    "n = int(input(\"Enter value of n \"))\n",
    "size = (m, n)\n",
    "Array1 = np.random.rand(*size)\n",
    "Array2 = np.random.rand(*size)\n",
    "Array3 = np.random.rand(*size)\n"
   ]
  },
  {
   "cell_type": "code",
   "execution_count": 41,
   "id": "26388fed",
   "metadata": {},
   "outputs": [
    {
     "data": {
      "text/plain": [
       "array([[0.87762145, 0.43176375, 0.08982691],\n",
       "       [0.95500678, 0.47611467, 0.97789125],\n",
       "       [0.63660885, 0.40996277, 0.48498366]])"
      ]
     },
     "execution_count": 41,
     "metadata": {},
     "output_type": "execute_result"
    }
   ],
   "source": [
    "Array1"
   ]
  },
  {
   "cell_type": "code",
   "execution_count": 42,
   "id": "06594ca6",
   "metadata": {},
   "outputs": [
    {
     "data": {
      "text/plain": [
       "array([[0.90176128, 0.0874256 , 0.15929262],\n",
       "       [0.09854058, 0.71424605, 0.00392788],\n",
       "       [0.76901137, 0.99630357, 0.63919124]])"
      ]
     },
     "execution_count": 42,
     "metadata": {},
     "output_type": "execute_result"
    }
   ],
   "source": [
    "Array2"
   ]
  },
  {
   "cell_type": "code",
   "execution_count": 43,
   "id": "c2798c04",
   "metadata": {},
   "outputs": [
    {
     "data": {
      "text/plain": [
       "array([[0.09610567, 0.25276187, 0.8259654 ],\n",
       "       [0.23257302, 0.66201574, 0.694816  ],\n",
       "       [0.50649621, 0.53180754, 0.48118259]])"
      ]
     },
     "execution_count": 43,
     "metadata": {},
     "output_type": "execute_result"
    }
   ],
   "source": [
    "Array3"
   ]
  },
  {
   "cell_type": "code",
   "execution_count": 44,
   "id": "1155f339",
   "metadata": {},
   "outputs": [
    {
     "data": {
      "text/plain": [
       "array([[-0.8056556 ,  0.16533627,  0.66667278],\n",
       "       [ 0.13403244, -0.05223031,  0.69088811],\n",
       "       [-0.26251516, -0.46449604, -0.15800865]])"
      ]
     },
     "execution_count": 44,
     "metadata": {},
     "output_type": "execute_result"
    }
   ],
   "source": [
    "Array4 = Array3 - Array2\n",
    "Array4"
   ]
  },
  {
   "cell_type": "code",
   "execution_count": 45,
   "id": "2da7faf6",
   "metadata": {},
   "outputs": [
    {
     "data": {
      "text/plain": [
       "array([[1.7552429 , 0.8635275 , 0.17965383],\n",
       "       [1.91001356, 0.95222935, 1.95578249],\n",
       "       [1.27321771, 0.81992554, 0.96996732]])"
      ]
     },
     "execution_count": 45,
     "metadata": {},
     "output_type": "execute_result"
    }
   ],
   "source": [
    "Array5 = 2 * Array1\n",
    "Array5"
   ]
  },
  {
   "cell_type": "code",
   "execution_count": 38,
   "id": "d301287c",
   "metadata": {},
   "outputs": [
    {
     "data": {
      "text/plain": [
       "0.003985596933373359"
      ]
     },
     "execution_count": 38,
     "metadata": {},
     "output_type": "execute_result"
    }
   ],
   "source": [
    "#  covariance between arr1 and arr4\n",
    "covariance_Array1_Array4 = np.cov(Array1, Array4)[0, 1]\n",
    "covariance_Array1_Array4"
   ]
  },
  {
   "cell_type": "markdown",
   "id": "cee9d672",
   "metadata": {},
   "source": [
    "#### flatten return a copy of the array collapsed into one dimension, for multi-dimensional array, calling flatten will reshape it into a one-dimensional array.\n",
    "\n",
    "#### Without flattening, np.cov will calculate the covariance between variables across observations. With flattening, it treats all values as a single set and calculates the covariance accordingly."
   ]
  },
  {
   "cell_type": "code",
   "execution_count": 47,
   "id": "44280882",
   "metadata": {},
   "outputs": [
    {
     "data": {
      "text/plain": [
       "-0.022526039359041395"
      ]
     },
     "execution_count": 47,
     "metadata": {},
     "output_type": "execute_result"
    }
   ],
   "source": [
    "#  covariance between arr1 and arr4\n",
    "covariance_Array1_Array4 = np.cov(Array1.flatten(), Array4.flatten())[0, 1]\n",
    "covariance_Array1_Array4"
   ]
  },
  {
   "cell_type": "code",
   "execution_count": 48,
   "id": "2172a30a",
   "metadata": {},
   "outputs": [
    {
     "data": {
      "text/plain": [
       "0.17502826059706025"
      ]
     },
     "execution_count": 48,
     "metadata": {},
     "output_type": "execute_result"
    }
   ],
   "source": [
    "#  covariance between arr1 and arr4\n",
    "covariance_Array1_Array5 = np.cov(Array1.flatten(), Array5.flatten())[0, 1]\n",
    "covariance_Array1_Array5"
   ]
  },
  {
   "cell_type": "code",
   "execution_count": 49,
   "id": "fad4e60f",
   "metadata": {},
   "outputs": [
    {
     "data": {
      "text/plain": [
       "-0.15512095346776342"
      ]
     },
     "execution_count": 49,
     "metadata": {},
     "output_type": "execute_result"
    }
   ],
   "source": [
    "# Calculate the correlation coeff between arr1 and arr4\n",
    "correlation_Array1_Array4 = np.corrcoef(Array1.flatten(), Array4.flatten())[0, 1]\n",
    "correlation_Array1_Array4 "
   ]
  },
  {
   "cell_type": "code",
   "execution_count": 50,
   "id": "07d86eba",
   "metadata": {},
   "outputs": [
    {
     "data": {
      "text/plain": [
       "1.0"
      ]
     },
     "execution_count": 50,
     "metadata": {},
     "output_type": "execute_result"
    }
   ],
   "source": [
    "# Calculate the correlation coeff between arr1 and arr5\n",
    "correlation_Array1_Array5 = np.corrcoef(Array1.flatten(), Array5.flatten())[0, 1]\n",
    "correlation_Array1_Array5 "
   ]
  },
  {
   "cell_type": "markdown",
   "id": "b7f8e7e4",
   "metadata": {},
   "source": [
    "##### e  Create two random arrays of the same size 10: Array1, and Array2. Find the sum of the first half of both the arrays and product of the second half of both the arrays"
   ]
  },
  {
   "cell_type": "code",
   "execution_count": 51,
   "id": "8225601a",
   "metadata": {},
   "outputs": [
    {
     "name": "stdout",
     "output_type": "stream",
     "text": [
      "Array1: [0.1947504  0.30319871 0.05794727 0.64410539 0.26241741 0.23672814\n",
      " 0.30483312 0.73321948 0.32179995 0.64604381]\n",
      "Array2: [0.76965958 0.00500796 0.25269946 0.13154089 0.83862289 0.08671546\n",
      " 0.75770732 0.32060634 0.79759902 0.76963099]\n",
      "\n",
      "Sum of the first half of Array1: 1.4624191918755431\n",
      "Sum of the first half of Array2: 1.9975307748984497\n",
      "\n",
      "Product of the second half of Array1: 0.011000032450809416\n",
      "Product of the second half of Array2: 0.012931154371882459\n"
     ]
    }
   ],
   "source": [
    "Array1 = np.random.rand(10)\n",
    "Array2 = np.random.rand(10)\n",
    "\n",
    "# Print the orig arrays\n",
    "print(\"Array1:\", Array1)\n",
    "print(\"Array2:\", Array2)\n",
    "\n",
    "# Cal sum of first half of both arrays ---->using slicing\n",
    "first_half_Array1 = np.sum(Array1[:5])\n",
    "first_half_Array2 = np.sum(Array2[:5])\n",
    "\n",
    "# Cal product second half of both arrays \n",
    "second_half_Array1 = np.prod(Array1[5:])\n",
    "second_half_Array2 = np.prod(Array2[5:])\n",
    "\n",
    "# Print the results\n",
    "print(\"\\nSum of the first half of Array1:\", first_half_Array1)\n",
    "print(\"Sum of the first half of Array2:\", first_half_Array2)\n",
    "print(\"\\nProduct of the second half of Array1:\", second_half_Array1)\n",
    "print(\"Product of the second half of Array2:\", second_half_Array2)\n"
   ]
  },
  {
   "cell_type": "markdown",
   "id": "8dfcf9f9",
   "metadata": {},
   "source": [
    "#### f. Create an array with random values. Determine the size of the memory occupied by the array."
   ]
  },
  {
   "cell_type": "code",
   "execution_count": null,
   "id": "e64d5a83",
   "metadata": {},
   "outputs": [],
   "source": [
    "\n",
    "# Create an array with random values\n",
    "random_array = np.random.rand(5, 5)\n",
    "\n",
    "# Det size of memory occupied by the array in bytes\n",
    "memory_size = random_array.nbytes\n",
    "\n",
    "# Print the size in bytes and kilobytes\n",
    "print(f\"Memory size of the array: {memory_size} bytes\")\n"
   ]
  },
  {
   "cell_type": "markdown",
   "id": "7b5b8444",
   "metadata": {},
   "source": [
    "#### g Create a 2-dimensional array of size m x n having integer elements in the range (10,100). Write statements to swap any two rows, reverse a specified column and store updated array in another variable"
   ]
  },
  {
   "cell_type": "code",
   "execution_count": 61,
   "id": "0564e966",
   "metadata": {},
   "outputs": [
    {
     "name": "stdout",
     "output_type": "stream",
     "text": [
      "Original Array:\n",
      "[[44 97 32 21 31]\n",
      " [74 55 77 76 54]\n",
      " [38 27 92 48 48]\n",
      " [89 48 75 81 19]]\n",
      "\n",
      "Array after swapping two rows:\n",
      "[[38 27 92 48 48]\n",
      " [74 55 77 76 54]\n",
      " [44 97 32 21 31]\n",
      " [89 48 75 81 19]]\n",
      "\n",
      "Array after reversing a specified column:\n",
      "[[38 48 92 48 48]\n",
      " [74 97 77 76 54]\n",
      " [44 55 32 21 31]\n",
      " [89 27 75 81 19]]\n",
      "\n",
      "Updated Array:\n",
      "[[38 48 92 48 48]\n",
      " [74 97 77 76 54]\n",
      " [44 55 32 21 31]\n",
      " [89 27 75 81 19]]\n"
     ]
    }
   ],
   "source": [
    "import numpy as np\n",
    "\n",
    "# Function to create a 2-dimensional array of size m x n with integer elements in the range (10, 100)\n",
    "def create_array(m, n):\n",
    "    return np.random.randint(10, 100, size=(m, n))\n",
    "\n",
    "# Function to swap any two rows of the array\n",
    "def swap_rows(arr, row1, row2):\n",
    "    arr[row1], arr[row2] = arr[row2].copy(), arr[row1].copy()  #neccessary----> because lost of value in row result to use copy\n",
    "\n",
    "# Function to reverse a specified column of the array\n",
    "def reverse_column(arr, col):\n",
    "    arr[:, col] = arr[::-1, col]\n",
    "\n",
    "# Set the size of the array\n",
    "m, n = 4, 5\n",
    "\n",
    "# Create the 2-dimensional array\n",
    "original_array = create_array(m, n)\n",
    "\n",
    "# Print the original array\n",
    "print(\"Original Array:\")\n",
    "print(original_array)\n",
    "\n",
    "# Swap any two rows (e.g., row 0 and row 2)\n",
    "swap_rows(original_array, 0, 2)\n",
    "print(\"\\nArray after swapping two rows:\")\n",
    "print(original_array)\n",
    "\n",
    "# Reverse a specified column (e.g., column 1)\n",
    "reverse_column(original_array, 1)\n",
    "print(\"\\nArray after reversing a specified column:\")\n",
    "print(original_array)\n",
    "\n",
    "# Store the updated array in another variable\n",
    "updated_array = original_array.copy()\n",
    "print(\"\\nUpdated Array:\")\n",
    "print(updated_array)\n"
   ]
  },
  {
   "cell_type": "code",
   "execution_count": null,
   "id": "a220d7c5",
   "metadata": {},
   "outputs": [],
   "source": []
  }
 ],
 "metadata": {
  "kernelspec": {
   "display_name": "Python 3 (ipykernel)",
   "language": "python",
   "name": "python3"
  },
  "language_info": {
   "codemirror_mode": {
    "name": "ipython",
    "version": 3
   },
   "file_extension": ".py",
   "mimetype": "text/x-python",
   "name": "python",
   "nbconvert_exporter": "python",
   "pygments_lexer": "ipython3",
   "version": "3.11.5"
  }
 },
 "nbformat": 4,
 "nbformat_minor": 5
}
