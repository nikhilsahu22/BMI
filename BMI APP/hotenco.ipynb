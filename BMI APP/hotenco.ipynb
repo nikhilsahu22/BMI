{
 "cells": [
  {
   "cell_type": "code",
   "execution_count": 17,
   "id": "e5174340",
   "metadata": {},
   "outputs": [
    {
     "name": "stdout",
     "output_type": "stream",
     "text": [
      "               Name Birth_Month Gender Pass_Division\n",
      "0     Mudit Chauhan    December      M           III\n",
      "1      Seema Chopra     January      F            II\n",
      "2        Rani Gupta       March      F             I\n",
      "3    Aditya Narayan     October      M             I\n",
      "4     Sanjeev Sahni    February      M            II\n",
      "5     Prakash Kumar    December      M           III\n",
      "6      Ritu Agarwal   September      F             I\n",
      "7       Akshay Goel      August      M             I\n",
      "8    Meeta Kulkarni        July      F            II\n",
      "9      Preeti Ahuja    November      F            II\n",
      "10  Sunil Das Gupta       April      M           III\n",
      "11     Sonali Sapre     January      F             I\n",
      "12    Rashmi Talwar        June      F           III\n",
      "13     Ashish Dubey         May      M            II\n",
      "14     Kiran Sharma    February      F            II\n",
      "15    Sameer Bansal     October      M             I\n"
     ]
    }
   ],
   "source": [
    "import pandas as pd\n",
    "\n",
    "# Given data\n",
    "data = {\n",
    "    'Name': ['Mudit Chauhan', 'Seema Chopra', 'Rani Gupta', 'Aditya Narayan', 'Sanjeev Sahni',\n",
    "             'Prakash Kumar', 'Ritu Agarwal', 'Akshay Goel', 'Meeta Kulkarni', 'Preeti Ahuja',\n",
    "             'Sunil Das Gupta', 'Sonali Sapre', 'Rashmi Talwar', 'Ashish Dubey', 'Kiran Sharma',\n",
    "             'Sameer Bansal'],\n",
    "    'Birth_Month': ['December', 'January', 'March', 'October', 'February', 'December',\n",
    "                    'September', 'August', 'July', 'November', 'April', 'January', 'June',\n",
    "                    'May', 'February', 'October'],\n",
    "    'Gender': ['M', 'F', 'F', 'M', 'M', 'M', 'F', 'M', 'F', 'F', 'M', 'F', 'F', 'M', 'F', 'M'],\n",
    "    'Pass_Division': ['III', 'II', 'I', 'I', 'II', 'III', 'I', 'I', 'II', 'II', 'III', 'I', 'III', 'II', 'II', 'I']\n",
    "}\n",
    "\n",
    "# Display the DataFrame\n",
    "df = pd.DataFrame(data)\n",
    "print(df)\n"
   ]
  },
  {
   "cell_type": "code",
   "execution_count": 18,
   "id": "4e827ef9",
   "metadata": {},
   "outputs": [
    {
     "name": "stdout",
     "output_type": "stream",
     "text": [
      "DataFrame after One-Hot Encoding:\n",
      "                Name Birth_Month  Gender_F  Gender_M  Pass_Division_I  \\\n",
      "0     Mudit Chauhan    December     False      True            False   \n",
      "1      Seema Chopra     January      True     False            False   \n",
      "2        Rani Gupta       March      True     False             True   \n",
      "3    Aditya Narayan     October     False      True             True   \n",
      "4     Sanjeev Sahni    February     False      True            False   \n",
      "5     Prakash Kumar    December     False      True            False   \n",
      "6      Ritu Agarwal   September      True     False             True   \n",
      "7       Akshay Goel      August     False      True             True   \n",
      "8    Meeta Kulkarni        July      True     False            False   \n",
      "9      Preeti Ahuja    November      True     False            False   \n",
      "10  Sunil Das Gupta       April     False      True            False   \n",
      "11     Sonali Sapre     January      True     False             True   \n",
      "12    Rashmi Talwar        June      True     False            False   \n",
      "13     Ashish Dubey         May     False      True            False   \n",
      "14     Kiran Sharma    February      True     False            False   \n",
      "15    Sameer Bansal     October     False      True             True   \n",
      "\n",
      "    Pass_Division_II  Pass_Division_III  \n",
      "0              False               True  \n",
      "1               True              False  \n",
      "2              False              False  \n",
      "3              False              False  \n",
      "4               True              False  \n",
      "5              False               True  \n",
      "6              False              False  \n",
      "7              False              False  \n",
      "8               True              False  \n",
      "9               True              False  \n",
      "10             False               True  \n",
      "11             False              False  \n",
      "12             False               True  \n",
      "13              True              False  \n",
      "14              True              False  \n",
      "15             False              False  \n"
     ]
    }
   ],
   "source": [
    "# a. Performing one-hot encoding of the last two columns using get_dummies()\n",
    "df_encoded = pd.get_dummies(df[['Gender', 'Pass_Division']])\n",
    "\n",
    "# Concatenate the encoded DataFrame with the original DataFrame\n",
    "df = pd.concat([df, df_encoded], axis=1)\n",
    "\n",
    "# Drop the original categorical columns\n",
    "df = df.drop(['Gender', 'Pass_Division'], axis=1)\n",
    "\n",
    "# Display the DataFrame after one-hot encoding\n",
    "print(\"DataFrame after One-Hot Encoding:\\n\", df)"
   ]
  },
  {
   "cell_type": "code",
   "execution_count": 12,
   "id": "d5f69008",
   "metadata": {},
   "outputs": [
    {
     "name": "stdout",
     "output_type": "stream",
     "text": [
      "\n",
      "DataFrame Sorted on Birth Month:\n",
      "                Name Birth_Month  Gender_F  Gender_M  Pass_Division_I  \\\n",
      "1      Seema Chopra     January      True     False            False   \n",
      "11     Sonali Sapre     January      True     False             True   \n",
      "4     Sanjeev Sahni    February     False      True            False   \n",
      "14     Kiran Sharma    February      True     False            False   \n",
      "2        Rani Gupta       March      True     False             True   \n",
      "10  Sunil Das Gupta       April     False      True            False   \n",
      "13     Ashish Dubey         May     False      True            False   \n",
      "12    Rashmi Talwar        June      True     False            False   \n",
      "8    Meeta Kulkarni        July      True     False            False   \n",
      "7       Akshay Goel      August     False      True             True   \n",
      "6      Ritu Agarwal   September      True     False             True   \n",
      "3    Aditya Narayan     October     False      True             True   \n",
      "15    Sameer Bansal     October     False      True             True   \n",
      "9      Preeti Ahuja    November      True     False            False   \n",
      "0     Mudit Chauhan    December     False      True            False   \n",
      "5     Prakash Kumar    December     False      True            False   \n",
      "\n",
      "    Pass_Division_II  Pass_Division_III  \n",
      "1               True              False  \n",
      "11             False              False  \n",
      "4               True              False  \n",
      "14              True              False  \n",
      "2              False              False  \n",
      "10             False               True  \n",
      "13              True              False  \n",
      "12             False               True  \n",
      "8               True              False  \n",
      "7              False              False  \n",
      "6              False              False  \n",
      "3              False              False  \n",
      "15             False              False  \n",
      "9               True              False  \n",
      "0              False               True  \n",
      "5              False               True  \n"
     ]
    }
   ],
   "source": [
    "# b. Sort the DataFrame based on the \"Birth_Month\" column\n",
    "\n",
    "month_order = ['January', 'February', 'March', 'April', 'May', 'June', 'July', 'August', 'September', 'October', 'November', 'December']\n",
    "\n",
    "df['Birth_Month'] = pd.Categorical(df['Birth_Month'], categories=month_order, ordered=True)\n",
    "\n",
    "df = df.sort_values(by='Birth_Month')\n",
    "\n",
    "# Display the sorted DataFrame\n",
    "print(\"\\nDataFrame Sorted on Birth Month:\\n\", df)\n"
   ]
  }
 ],
 "metadata": {
  "kernelspec": {
   "display_name": "Python 3 (ipykernel)",
   "language": "python",
   "name": "python3"
  },
  "language_info": {
   "codemirror_mode": {
    "name": "ipython",
    "version": 3
   },
   "file_extension": ".py",
   "mimetype": "text/x-python",
   "name": "python",
   "nbconvert_exporter": "python",
   "pygments_lexer": "ipython3",
   "version": "3.11.5"
  }
 },
 "nbformat": 4,
 "nbformat_minor": 5
}
