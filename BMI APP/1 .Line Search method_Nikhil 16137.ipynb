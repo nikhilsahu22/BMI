{
 "cells": [
  {
   "cell_type": "markdown",
   "metadata": {},
   "source": [
    "#### 1. WAP for finding optimal solution using Line Search method."
   ]
  },
  {
   "cell_type": "code",
   "execution_count": 3,
   "metadata": {
    "colab": {
     "base_uri": "https://localhost:8080/"
    },
    "executionInfo": {
     "elapsed": 10,
     "status": "ok",
     "timestamp": 1697410876266,
     "user": {
      "displayName": "Nikhil Kumar Sahu",
      "userId": "03999715005777723612"
     },
     "user_tz": -330
    },
    "id": "ZBfVH3P6ee3X",
    "outputId": "4108ef17-ed2a-4ad7-cb61-adac30c5e103"
   },
   "outputs": [
    {
     "name": "stdout",
     "output_type": "stream",
     "text": [
      "Optimal sol:  -0.9999999997962964\n",
      "Obj value at Optima:  0.0\n"
     ]
    }
   ],
   "source": [
    "def obj_fun(x):\n",
    "  return x**2 +  2*x + 1\n",
    "\n",
    "\n",
    "#derivative of obj fun\n",
    "def derv(x):\n",
    "  return 2*x + 2\n",
    "\n",
    "# Define the Line Search method\n",
    "def line_search(learning_rate,x0, num_iterations):\n",
    "    x_current = x0\n",
    "    iteration = 0\n",
    "\n",
    "    while iteration < num_iterations:\n",
    "        gradient = derv(x_current)\n",
    "\n",
    "        x_current -= learning_rate * gradient\n",
    "        iteration += 1\n",
    "\n",
    "    return x_current\n",
    "\n",
    "# parameter passing\n",
    "x0 =0.0\n",
    "learning_rate = 0.1\n",
    "num_iterations = 100\n",
    "\n",
    "\n",
    "# perform line search optimz\n",
    "optimal_solution = line_search(learning_rate,x0, num_iterations)\n",
    "\n",
    "print(\"Optimal sol: \",optimal_solution)\n",
    "print(\"Obj value at Optima: \",obj_fun(optimal_solution))"
   ]
  },
  {
   "cell_type": "markdown",
   "metadata": {},
   "source": [
    "#### 2. WAP to solve a LPP graphically."
   ]
  },
  {
   "cell_type": "code",
   "execution_count": 12,
   "metadata": {},
   "outputs": [
    {
     "name": "stdout",
     "output_type": "stream",
     "text": [
      "Requirement already satisfied: pulp in d:\\anacon\\lib\\site-packages (2.7.0)\n",
      "Status: Optimal\n",
      "x = 3.0\n",
      "y = 6.0\n",
      "Optimal Value = 21.0\n",
      "[3.0, 6.0] [3.0, 6.0]\n"
     ]
    },
    {
     "data": {
      "image/png": "[encoded data removed]",
      "text/plain": [
       "<Figure size 640x480 with 1 Axes>"
      ]
     },
     "metadata": {},
     "output_type": "display_data"
    }
   ],
   "source": [
    "\n",
    "!pip install pulp\n",
    "\n",
    "import pulp\n",
    "import matplotlib.pyplot as plt\n",
    "\n",
    "\"\"\"This line creates a Linear Programming problem (LP) instance named lp_problem with the objective of maximizing (LpMaximize).\"\"\"\n",
    "\n",
    "lp_problem = pulp.LpProblem(\"LPP\", pulp.LpMaximize)\n",
    "\n",
    "\"\"\"These lines define two decision variables, x and y, with lower bounds set to 0. These variables represent the values you want to find in the optimization.\"\"\"\n",
    "\n",
    "x = pulp.LpVariable(\"x\", lowBound=0)\n",
    "y = pulp.LpVariable(\"y\", lowBound=0)\n",
    "\n",
    "\"\"\"This line sets the objective function to be maximized. In this case, it's 3x + 2y.\"\"\"\n",
    "\n",
    "lp_problem += 3 * x + 2 * y\n",
    "\n",
    "\"\"\"These lines define the constraints of the LP. The first constraint, x <= 4, restricts x to be less than or equal to 4. The second constraint, y <= 6, restricts y to be less than or equal to 6. The third constraint, 2x + y <= 12, restricts the linear combination of x and y to be less than or equal to 12.\"\"\"\n",
    "\n",
    "lp_problem += x <= 4\n",
    "lp_problem += y <= 6\n",
    "lp_problem += 2 * x + y <= 12\n",
    "\n",
    "\"\"\"This line solves the LP using the PuLP solver. It finds the optimal values for x and y that maximize the objective function within the given constraints.\"\"\"\n",
    "\n",
    "lp_problem.solve()\n",
    "\n",
    "\"\"\"This line prints the status of the LP solver, indicating whether it's solved successfully, infeasible, or unbounded.\"\"\"\n",
    "\n",
    "print(\"Status:\", pulp.LpStatus[lp_problem.status])\n",
    "\n",
    "print(\"x =\", x.varValue)\n",
    "print(\"y =\", y.varValue)\n",
    "\n",
    "print(\"Optimal Value =\", pulp.value(lp_problem.objective))\n",
    "\n",
    "x_values = [x.varValue for x in [x, y]]\n",
    "y_values = [y.varValue for y in [x, y]]\n",
    "\n",
    "print(x_values, y_values)\n",
    "\n",
    "\"\"\"This line plots a red dot ('ro') at the coordinates determined by the optimal values of x and y, representing the optimal solution.\"\"\"\n",
    "\n",
    "plt.plot(x.varValue, y.varValue, 'ro', label=\"Optimal Value\")\n",
    "plt.fill([0, 4, 4, 3, 0], [0, 0, 4, 6, 6], 'b', alpha=0.2)\n",
    "\n",
    "plt.xlabel(\"x\")\n",
    "plt.ylabel(\"y\")\n",
    "plt.title(\"Graphical Solution of LPP\")\n",
    "\n",
    "plt.legend()\n",
    "\n",
    "plt.grid(True)\n",
    "plt.show()\n",
    "\n"
   ]
  },
  {
   "cell_type": "markdown",
   "metadata": {},
   "source": [
    "#### 3. WAP to compute the gradient and Hessian of the function\n",
    "        𝑓(𝑥) = 100(𝑥2 − 𝑥1**2)**2 + (1 − 𝑥1)**2"
   ]
  },
  {
   "cell_type": "code",
   "execution_count": 5,
   "metadata": {},
   "outputs": [
    {
     "name": "stdout",
     "output_type": "stream",
     "text": [
      "3.0\n"
     ]
    },
    {
     "data": {
      "image/png": "[encoded data removed]",
      "text/latex": [
       "$\\displaystyle \\left[ - \\sqrt{2}, \\  \\sqrt{2}\\right]$"
      ],
      "text/plain": [
       "[-√2, √2]"
      ]
     },
     "execution_count": 5,
     "metadata": {},
     "output_type": "execute_result"
    }
   ],
   "source": [
    "import math\n",
    "import sympy\n",
    "from sympy import symbols\n",
    "\n",
    "print(math.sqrt(9))\n",
    "\n",
    "\n",
    "sympy.sqrt(3)\n",
    "sympy.sqrt(8)\n",
    "\n",
    "\n",
    "x, y = symbols('x y')\n",
    "\n",
    "\n",
    "expr = x + 2*y\n",
    "expr + 1\n",
    "expr - x\n",
    "x*expr\n",
    "\n",
    "from sympy import expand, factor\n",
    "\n",
    "expanded_expr = expand(x*expr)\n",
    "factor(expanded_expr)\n",
    "\n",
    "from sympy import *\n",
    "\n",
    "x, t, z, nu = symbols('x t z nu')\n",
    "\n",
    "init_printing(use_unicode=True)\n",
    "\n",
    "d_ = diff(sin(x)*exp(x), x)\n",
    "\n",
    "d_.subs(x, 10)\n",
    "\n",
    "integrate(exp(x)*sin(x) + exp(x)*cos(x), x)\n",
    "\n",
    "integrate(sin(x**2), (x, -oo, oo))\n",
    "\n",
    "solve(x**2 - 2, x)"
   ]
  },
  {
   "cell_type": "code",
   "execution_count": 6,
   "metadata": {},
   "outputs": [
    {
     "name": "stdout",
     "output_type": "stream",
     "text": [
      "Gradient of (1 - x1)**2 + 100*(-x1**2 + x2)**2:\n",
      "[-400*x1*(-x1**2 + x2) + 2*x1 - 2, -200*x1**2 + 200*x2]\n",
      "\n",
      "Hessian of (1 - x1)**2 + 100*(-x1**2 + x2)**2:\n",
      "Matrix([[1200*x1**2 - 400*x2 + 2, -400*x1], [-400*x1, 200]])\n"
     ]
    }
   ],
   "source": [
    "from sympy import symbols\n",
    "\n",
    "# Define the variables\n",
    "x1, x2 = symbols('x1 x2')\n",
    "\n",
    "\n",
    "# Define the function f(x)\n",
    "f = 100 * (x2 - x1**2)**2 + (1 - x1)**2\n",
    "\n",
    "# Caln  gradient\n",
    "import sympy as sp\n",
    "grad_f = [sp.diff(f, x1), sp.diff(f, x2)]\n",
    "\n",
    "# Cal Hessian matrix\n",
    "hessian_f = sp.hessian(f, (x1, x2))\n",
    "\n",
    "# Print the gradient and Hessian\n",
    "print(f\"Gradient of {f}:\")\n",
    "print(grad_f)\n",
    "print(f\"\\nHessian of {f}:\")\n",
    "print(hessian_f)"
   ]
  },
  {
   "cell_type": "markdown",
   "metadata": {},
   "source": [
    "#### 4. WAP to find Global Optimal Solution of a function\n",
    "     𝑓(𝑥) = −10𝐶𝑜𝑠(𝜋𝑥 − 2.2) + (𝑥 + 1.5)𝑥 algebraically\n"
   ]
  },
  {
   "cell_type": "code",
   "execution_count": 7,
   "metadata": {},
   "outputs": [
    {
     "data": {
      "image/png": "[encoded data removed]",
      "text/plain": [
       "<Figure size 640x480 with 1 Axes>"
      ]
     },
     "metadata": {},
     "output_type": "display_data"
    },
    {
     "name": "stdout",
     "output_type": "stream",
     "text": [
      "Global Minimum: f(-1.2912912912912908) = -10.265999559988813\n"
     ]
    }
   ],
   "source": [
    "\n",
    "import numpy as np\n",
    "import matplotlib.pyplot as plt\n",
    "\n",
    "# Define the function\n",
    "def f(x):\n",
    "    return -10 * np.cos(np.pi * x - 2.2) + (x + 1.5) * x\n",
    "\n",
    "# Generate x values\n",
    "x = np.linspace(-10, 10, 1000)\n",
    "\n",
    "# Calculate corresponding y values\n",
    "y = f(x)\n",
    "\n",
    "np.min(y)\n",
    "\n",
    "# Find the index of the minimum value\n",
    "min_index = np.argmin(y)\n",
    "\n",
    "# Find the global minimum\n",
    "global_min_x = x[min_index]\n",
    "global_min_y = y[min_index]\n",
    "\n",
    "# Plot the function\n",
    "plt.plot(x, y, label='f(x)')\n",
    "plt.scatter(global_min_x, global_min_y, color='red', marker='o', label='Global Minimum')\n",
    "plt.xlabel('x')\n",
    "plt.ylabel('f(x)')\n",
    "plt.legend()\n",
    "plt.title('Global Optimization of f(x)')\n",
    "plt.grid(True)\n",
    "plt.show()\n",
    "\n",
    "# Display the global minimum\n",
    "print(f\"Global Minimum: f({global_min_x}) = {global_min_y}\")\n",
    "\n"
   ]
  },
  {
   "cell_type": "code",
   "execution_count": null,
   "metadata": {},
   "outputs": [],
   "source": [
    "import numpy as np\n",
    "import matplotlib.pyplot as plt\n",
    "\n",
    "# Define the objective function\n",
    "def objective_function(x):\n",
    "    return -10 * np.cos(np.pi * x - 2.2) + (x + 1.5) * x\n",
    "\n",
    "# Generate x values\n",
    "x_values = np.linspace(-5, 5, 1000)\n",
    "\n",
    "# Calculate corresponding y values\n",
    "y_values = objective_function(x_values)\n",
    "\n",
    "# Plot the function\n",
    "plt.plot(x_values, y_values, label='f(x) = -10cos(pi x - 2.2) + (x + 1.5)x')\n",
    "\n",
    "# Find the minimum point\n",
    "min_point_x = x_values[np.argmin(y_values)]\n",
    "min_point_y = np.min(y_values)\n",
    "\n",
    "# Highlight the minimum point\n",
    "plt.scatter(min_point_x, min_point_y, color='red', label=f'Minimum Point: ({min_point_x:.2f}, {min_point_y:.2f})')\n",
    "\n",
    "# Add labels and title\n",
    "plt.xlabel('x')\n",
    "plt.ylabel('f(x)')\n",
    "plt.title('Graph of the Function')\n",
    "\n",
    "# Add legend\n",
    "plt.legend()\n",
    "\n",
    "# Show the plot\n",
    "plt.grid(True)\n",
    "plt.show()\n"
   ]
  },
  {
   "cell_type": "markdown",
   "metadata": {},
   "source": [
    "#### 5. WAP to find Global Optimal Solution of a function\n",
    "     𝑓(𝑥) = −10𝐶𝑜𝑠(𝜋𝑥 − 2.2) + (𝑥 + 1.5)𝑥 graphically\n"
   ]
  },
  {
   "cell_type": "code",
   "execution_count": 8,
   "metadata": {},
   "outputs": [
    {
     "name": "stdout",
     "output_type": "stream",
     "text": [
      "global min x:  [-1.28879782]\n",
      "Global Optimal Solution:\n",
      "x = -1.2887978209349171\n",
      "f(x) = -10.266312448524454\n"
     ]
    }
   ],
   "source": [
    "import numpy as np\n",
    "from scipy.optimize import differential_evolution\n",
    "\n",
    "# Define the function to minimize\n",
    "def objective_function(x):\n",
    "    return -10 * np.cos(np.pi * x - 2.2) + (x + 1.5) * x\n",
    "\n",
    "# Define bounds for the optimization\n",
    "bounds = [(-10, 10)]  # Adjust bounds as needed\n",
    "\n",
    "# Use differential evolution to find the global minimum\n",
    "result = differential_evolution(objective_function, bounds)\n",
    "\n",
    "# Extract the optimal solution\n",
    "global_min_x = result.x\n",
    "global_min_f = result.fun\n",
    "\n",
    "print(\"global min x: \",global_min_x)\n",
    "print(\"Global Optimal Solution:\")\n",
    "print(f\"x = {global_min_x[0]}\")\n",
    "print(f\"f(x) = {global_min_f}\")"
   ]
  },
  {
   "cell_type": "markdown",
   "metadata": {},
   "source": [
    "#### 6. WAP to solve constraint optimization problem."
   ]
  },
  {
   "cell_type": "code",
   "execution_count": 11,
   "metadata": {},
   "outputs": [
    {
     "name": "stdout",
     "output_type": "stream",
     "text": [
      "Matrix([[2, 0, -1], [0, 2, -1], [-1, -1, 0]])\n",
      "Stationary point is a local maximum.\n",
      "Optimal solution:\n",
      "x: 1/2\n",
      "y: 1/2\n"
     ]
    }
   ],
   "source": [
    "from sympy import symbols, diff, solve, Matrix\n",
    "\n",
    "# Define the variables\n",
    "x, y, l = symbols('x y lambda')\n",
    "\n",
    "# Define the objective function and constraint\n",
    "f = x**2 + y**2\n",
    "g = x + y - 1\n",
    "\n",
    "# Define the Lagrangian\n",
    "L = f - l * g\n",
    "\n",
    "# Compute partial derivatives\n",
    "partials = [diff(L, var) for var in (x, y, l)]\n",
    "\n",
    "# Solve the system of equations\n",
    "solution = solve(partials, (x, y, l), dict=True)[0]\n",
    "\n",
    "# Extract the optimal values\n",
    "optimal_x = solution[x]\n",
    "optimal_y = solution[y]\n",
    "\n",
    "# Compute the Hessian matrix\n",
    "# hessian_matrix = Matrix([[diff(L.diff(var1), var2) for var1 in (x, y, l)] for var2 in (x, y, l)])\n",
    "\n",
    "# Compute the Hessian matrix using a list of lists\n",
    "hessian_list = []\n",
    "\n",
    "# Iterate over var2\n",
    "for var2 in (x, y, l):\n",
    "    # Initialize a row for var2\n",
    "    row = []\n",
    "\n",
    "    # Iterate over var1\n",
    "    for var1 in (x, y, l):\n",
    "        # Calculate the second-order partial derivative and append to the row\n",
    "        row.append(diff(L.diff(var1), var2))\n",
    "\n",
    "    # Append the row to the Hessian list\n",
    "    hessian_list.append(row)\n",
    "\n",
    "# Create an instance of the Matrix class from the list of lists\n",
    "hessian_matrix = Matrix(hessian_list)\n",
    "\n",
    "# Display the Hessian matrix\n",
    "print(hessian_matrix)\n",
    "\n",
    "# Check the definiteness of the Hessian at the stationary point\n",
    "hessian_determinant = hessian_matrix.det()\n",
    "if hessian_determinant > 0:\n",
    "    print(\"Stationary point is a local minimum.\")\n",
    "elif hessian_determinant < 0:\n",
    "    print(\"Stationary point is a local maximum.\")\n",
    "else:\n",
    "    print(\"Second-order test inconclusive (saddle point or test fails).\")\n",
    "\n",
    "# Display the result\n",
    "print(\"Optimal solution:\")\n",
    "print(f\"x: {optimal_x}\")\n",
    "print(f\"y: {optimal_y}\")\n"
   ]
  }
 ],
 "metadata": {
  "colab": {
   "authorship_tag": "ABX9TyPy7gYWLY1NNvHhe4O96nGN",
   "provenance": []
  },
  "kernelspec": {
   "display_name": "Python 3 (ipykernel)",
   "language": "python",
   "name": "python3"
  },
  "language_info": {
   "codemirror_mode": {
    "name": "ipython",
    "version": 3
   },
   "file_extension": ".py",
   "mimetype": "text/x-python",
   "name": "python",
   "nbconvert_exporter": "python",
   "pygments_lexer": "ipython3",
   "version": "3.11.5"
  }
 },
 "nbformat": 4,
 "nbformat_minor": 1
}
