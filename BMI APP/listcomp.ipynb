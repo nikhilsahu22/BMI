{
 "cells": [
  {
   "cell_type": "markdown",
   "id": "74bc4c3e",
   "metadata": {},
   "source": [
    "Q2.Given below is a dictionary having two keys ‘Boys’ and ‘Girls’ and having two lists of heights of five Boys\n",
    "and Five Girls respectively as values associated with these keys Original dictionary of lists:\n",
    "{'Boys': [72, 68, 70, 69, 74], 'Girls': [63, 65, 69, 62, 61]}\n",
    "From the given dictionary of lists create the following list of dictionaries:\n",
    "[{'Boys': 72, 'Girls': 63}, {'Boys': 68, 'Girls': 65}, {'Boys': 70, 'Girls': 69}, {'Boys': 69, 'Girls': 62},\n",
    "{‘Boys’:74, ‘Girls’:61] . What are multiple ways to do it? Give at least 3 methods to achieve it. Explain\n",
    "each method as the comment of your code"
   ]
  },
  {
   "cell_type": "code",
   "execution_count": 1,
   "id": "fb7480f7",
   "metadata": {},
   "outputs": [],
   "source": [
    "import pandas as pd"
   ]
  },
  {
   "cell_type": "markdown",
   "id": "e1ce91e8",
   "metadata": {},
   "source": [
    "# list comprehension"
   ]
  },
  {
   "cell_type": "code",
   "execution_count": 2,
   "id": "f53fb02e",
   "metadata": {},
   "outputs": [
    {
     "name": "stdout",
     "output_type": "stream",
     "text": [
      "[{'Boys': 72, 'Girls': 63}, {'Boys': 68, 'Girls': 65}, {'Boys': 70, 'Girls': 69}, {'Boys': 69, 'Girls': 62}, {'Boys': 74, 'Girls': 61}]\n"
     ]
    }
   ],
   "source": [
    "# Orig dict of lists(pandas internal rep )\n",
    "original_dict = {'Boys': [72, 68, 70, 69, 74], 'Girls': [63, 65, 69, 62, 61]}\n",
    "original_dict\n",
    "\n",
    "# List comp to create a list of dict\n",
    "result_list = [{'Boys': boys_height, 'Girls': girls_height} \n",
    "               for boys_height, girls_height in zip(original_dict['Boys'], original_dict['Girls'])]\n",
    "\n",
    "#Display the result\n",
    "print(result_list)\n"
   ]
  },
  {
   "cell_type": "markdown",
   "id": "139cc82b",
   "metadata": {},
   "source": [
    "# pandas format"
   ]
  },
  {
   "cell_type": "code",
   "execution_count": 3,
   "id": "e263e5fd",
   "metadata": {},
   "outputs": [
    {
     "name": "stdout",
     "output_type": "stream",
     "text": [
      "[{0: 72, 1: 68, 2: 70, 3: 69, 4: 74}, {0: 63, 1: 65, 2: 69, 3: 62, 4: 61}]\n"
     ]
    }
   ],
   "source": [
    "# Orig dict of lists\n",
    "original_dict = {'Boys': [72, 68, 70, 69, 74], 'Girls': [63, 65, 69, 62, 61]}\n",
    "\n",
    "# Create a DataFrame from the orig dict and transpose it\n",
    "df = pd.DataFrame(original_dict).transpose()\n",
    "\n",
    "# Convert the DataFrame to a list of dict\n",
    "result_list = df.to_dict(orient='records')\n",
    "\n",
    "# Display the result\n",
    "print(result_list)\n"
   ]
  },
  {
   "cell_type": "markdown",
   "id": "9cf0b4ac",
   "metadata": {},
   "source": [
    "# pandas lib 'to_dict'"
   ]
  },
  {
   "cell_type": "code",
   "execution_count": 4,
   "id": "b04fb647",
   "metadata": {},
   "outputs": [
    {
     "name": "stdout",
     "output_type": "stream",
     "text": [
      "[{'Boys': 72, 'Girls': 63}, {'Boys': 68, 'Girls': 65}, {'Boys': 70, 'Girls': 69}, {'Boys': 69, 'Girls': 62}, {'Boys': 74, 'Girls': 61}]\n"
     ]
    }
   ],
   "source": [
    "import pandas as pd\n",
    "\n",
    "# Orig dict of lists\n",
    "original_dict = {'Boys': [72, 68, 70, 69, 74], 'Girls': [63, 65, 69, 62, 61]}\n",
    "\n",
    "# Create a DataFrame from the orig dict\n",
    "df = pd.DataFrame(original_dict)\n",
    "\n",
    "# Convert the DataFrame to a list of dict\n",
    "result_list = df.to_dict(orient='records')\n",
    "\n",
    "# Display the result\n",
    "print(result_list)\n"
   ]
  }
 ],
 "metadata": {
  "kernelspec": {
   "display_name": "Python 3 (ipykernel)",
   "language": "python",
   "name": "python3"
  },
  "language_info": {
   "codemirror_mode": {
    "name": "ipython",
    "version": 3
   },
   "file_extension": ".py",
   "mimetype": "text/x-python",
   "name": "python",
   "nbconvert_exporter": "python",
   "pygments_lexer": "ipython3",
   "version": "3.11.5"
  }
 },
 "nbformat": 4,
 "nbformat_minor": 5
}
